{
 "cells": [
  {
   "cell_type": "markdown",
   "metadata": {
    "collapsed": true,
    "pycharm": {
     "name": "#%% md\n"
    }
   },
   "source": [
    "Polaczenie plikow z i bez danych One Hot."
   ]
  },
  {
   "cell_type": "code",
   "execution_count": 1,
   "outputs": [],
   "source": [
    "from json_handler.json_handler import load_json_data, write_json_file\n",
    "without_one_hot = load_json_data('prepared_data/records.json')\n",
    "with_one_hot = load_json_data('prepared_data/record_categoties.json')\n",
    "\n",
    "for item1, item2 in zip(without_one_hot, with_one_hot):\n",
    "    item1.update(item2)\n",
    "\n",
    "write_json_file('prepared_data/merged_records.json', without_one_hot)"
   ],
   "metadata": {
    "collapsed": false,
    "pycharm": {
     "name": "#%%\n"
    }
   }
  }
 ],
 "metadata": {
  "kernelspec": {
   "display_name": "Python 3",
   "language": "python",
   "name": "python3"
  },
  "language_info": {
   "codemirror_mode": {
    "name": "ipython",
    "version": 2
   },
   "file_extension": ".py",
   "mimetype": "text/x-python",
   "name": "python",
   "nbconvert_exporter": "python",
   "pygments_lexer": "ipython2",
   "version": "2.7.6"
  }
 },
 "nbformat": 4,
 "nbformat_minor": 0
}