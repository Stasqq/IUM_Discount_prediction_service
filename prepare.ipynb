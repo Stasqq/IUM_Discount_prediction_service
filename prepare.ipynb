{
 "cells": [
  {
   "cell_type": "markdown",
   "metadata": {},
   "source": [
    "Czyszczenie danych\n",
    "czyszcenie zostało przeprowadzone tlyko dla prouktów i sesji, gdyż, w pliku z użytkownikami nie zostały znalezione błędy.\n",
    "\n",
    "W przypadku sesji, uzupełniliśmy brakujące dane o użytkownikach, na podstawie pozostałych wierszy gdzie była ta sama sesja oraz identyfikator użytkownika.\n",
    "Natomiast te wiersze, gdzie product_id było nullem, zostały usunięte.\n",
    "\n",
    "Jeśli chodzi o produkty, usunęliśmy te ze skrajnymi lub ujemnymi cenami."
   ]
  },
  {
   "cell_type": "code",
   "execution_count": 1,
   "metadata": {
    "scrolled": true
   },
   "outputs": [
    {
     "data": {
      "text/plain": "session_id              0\ntimestamp               0\nuser_id                 0\nproduct_id              0\nevent_type              0\noffered_discount        0\npurchase_id         49805\ndtype: int64"
     },
     "execution_count": 1,
     "metadata": {},
     "output_type": "execute_result"
    }
   ],
   "source": [
    "from json_handler.json_handler import load_jsonl_data\n",
    "from preprocessing.junk_remover import JunkRemover\n",
    "import pandas as pd\n",
    "\n",
    "\n",
    "sessions = load_jsonl_data(\"data/input/sessions.jsonl\")\n",
    "products = load_jsonl_data(\"data/input/products.jsonl\")\n",
    "jr = JunkRemover()\n",
    "\n",
    "clean_sessions, clean_products = jr.delete_junk_data(sessions, products)\n",
    "df_sessions = pd.DataFrame(clean_sessions)\n",
    "\n",
    "\n",
    "df_sessions.head()\n",
    "df_sessions.isnull().sum()\n",
    "\n"
   ]
  },
  {
   "cell_type": "code",
   "execution_count": 2,
   "metadata": {},
   "outputs": [
    {
     "data": {
      "text/plain": "   product_id                                    product_name  \\\n0        1001                   Telefon Siemens Gigaset DA310   \n1        1002                              Kyocera FS-1135MFP   \n2        1003                              Kyocera FS-3640MFP   \n3        1004                            Fallout 3 (Xbox 360)   \n4        1005  Szalone Króliki Na żywo i w kolorze (Xbox 360)   \n\n                                       category_path    price  \n0          Telefony i akcesoria;Telefony stacjonarne    58.97  \n1  Komputery;Drukarki i skanery;Biurowe urządzeni...  2048.50  \n2  Komputery;Drukarki i skanery;Biurowe urządzeni...  7639.00  \n3          Gry i konsole;Gry na konsole;Gry Xbox 360    49.99  \n4          Gry i konsole;Gry na konsole;Gry Xbox 360    49.99  ",
      "text/html": "<div>\n<style scoped>\n    .dataframe tbody tr th:only-of-type {\n        vertical-align: middle;\n    }\n\n    .dataframe tbody tr th {\n        vertical-align: top;\n    }\n\n    .dataframe thead th {\n        text-align: right;\n    }\n</style>\n<table border=\"1\" class=\"dataframe\">\n  <thead>\n    <tr style=\"text-align: right;\">\n      <th></th>\n      <th>product_id</th>\n      <th>product_name</th>\n      <th>category_path</th>\n      <th>price</th>\n    </tr>\n  </thead>\n  <tbody>\n    <tr>\n      <th>0</th>\n      <td>1001</td>\n      <td>Telefon Siemens Gigaset DA310</td>\n      <td>Telefony i akcesoria;Telefony stacjonarne</td>\n      <td>58.97</td>\n    </tr>\n    <tr>\n      <th>1</th>\n      <td>1002</td>\n      <td>Kyocera FS-1135MFP</td>\n      <td>Komputery;Drukarki i skanery;Biurowe urządzeni...</td>\n      <td>2048.50</td>\n    </tr>\n    <tr>\n      <th>2</th>\n      <td>1003</td>\n      <td>Kyocera FS-3640MFP</td>\n      <td>Komputery;Drukarki i skanery;Biurowe urządzeni...</td>\n      <td>7639.00</td>\n    </tr>\n    <tr>\n      <th>3</th>\n      <td>1004</td>\n      <td>Fallout 3 (Xbox 360)</td>\n      <td>Gry i konsole;Gry na konsole;Gry Xbox 360</td>\n      <td>49.99</td>\n    </tr>\n    <tr>\n      <th>4</th>\n      <td>1005</td>\n      <td>Szalone Króliki Na żywo i w kolorze (Xbox 360)</td>\n      <td>Gry i konsole;Gry na konsole;Gry Xbox 360</td>\n      <td>49.99</td>\n    </tr>\n  </tbody>\n</table>\n</div>"
     },
     "execution_count": 2,
     "metadata": {},
     "output_type": "execute_result"
    }
   ],
   "source": [
    "df_products = pd.DataFrame(clean_products)\n",
    "df_products.head()"
   ]
  },
  {
   "cell_type": "markdown",
   "metadata": {},
   "source": [
    "nastepnie kodujemy kolumne event_type na wartosci binarne 0,1 i usuwamy jeszcze zbędną kolumnę purchase_id"
   ]
  },
  {
   "cell_type": "code",
   "execution_count": 3,
   "metadata": {
    "scrolled": false
   },
   "outputs": [
    {
     "data": {
      "text/plain": "   session_id            timestamp  user_id  product_id    event_type  \\\n0      100001  2020-04-28T19:48:07      102        1040  VIEW_PRODUCT   \n1      100001  2020-04-28T19:51:46      102        1041  VIEW_PRODUCT   \n2      100001  2020-04-28T19:55:49      102        1042  VIEW_PRODUCT   \n3      100001  2020-04-28T19:58:35      102        1043  VIEW_PRODUCT   \n4      100001  2020-04-28T20:01:40      102        1045  VIEW_PRODUCT   \n\n   offered_discount  purchase_id  \n0                 0          NaN  \n1                 0          NaN  \n2                 0          NaN  \n3                 0          NaN  \n4                 0          NaN  ",
      "text/html": "<div>\n<style scoped>\n    .dataframe tbody tr th:only-of-type {\n        vertical-align: middle;\n    }\n\n    .dataframe tbody tr th {\n        vertical-align: top;\n    }\n\n    .dataframe thead th {\n        text-align: right;\n    }\n</style>\n<table border=\"1\" class=\"dataframe\">\n  <thead>\n    <tr style=\"text-align: right;\">\n      <th></th>\n      <th>session_id</th>\n      <th>timestamp</th>\n      <th>user_id</th>\n      <th>product_id</th>\n      <th>event_type</th>\n      <th>offered_discount</th>\n      <th>purchase_id</th>\n    </tr>\n  </thead>\n  <tbody>\n    <tr>\n      <th>0</th>\n      <td>100001</td>\n      <td>2020-04-28T19:48:07</td>\n      <td>102</td>\n      <td>1040</td>\n      <td>VIEW_PRODUCT</td>\n      <td>0</td>\n      <td>NaN</td>\n    </tr>\n    <tr>\n      <th>1</th>\n      <td>100001</td>\n      <td>2020-04-28T19:51:46</td>\n      <td>102</td>\n      <td>1041</td>\n      <td>VIEW_PRODUCT</td>\n      <td>0</td>\n      <td>NaN</td>\n    </tr>\n    <tr>\n      <th>2</th>\n      <td>100001</td>\n      <td>2020-04-28T19:55:49</td>\n      <td>102</td>\n      <td>1042</td>\n      <td>VIEW_PRODUCT</td>\n      <td>0</td>\n      <td>NaN</td>\n    </tr>\n    <tr>\n      <th>3</th>\n      <td>100001</td>\n      <td>2020-04-28T19:58:35</td>\n      <td>102</td>\n      <td>1043</td>\n      <td>VIEW_PRODUCT</td>\n      <td>0</td>\n      <td>NaN</td>\n    </tr>\n    <tr>\n      <th>4</th>\n      <td>100001</td>\n      <td>2020-04-28T20:01:40</td>\n      <td>102</td>\n      <td>1045</td>\n      <td>VIEW_PRODUCT</td>\n      <td>0</td>\n      <td>NaN</td>\n    </tr>\n  </tbody>\n</table>\n</div>"
     },
     "execution_count": 3,
     "metadata": {},
     "output_type": "execute_result"
    }
   ],
   "source": [
    "from sklearn.preprocessing import LabelEncoder\n",
    "\n",
    "df_sessions = pd.DataFrame(clean_sessions)\n",
    "df_sessions.head(5)\n"
   ]
  },
  {
   "cell_type": "code",
   "execution_count": 4,
   "metadata": {},
   "outputs": [
    {
     "data": {
      "text/plain": "   session_id            timestamp  user_id  product_id  offered_discount  \\\n0      100001  2020-04-28T19:48:07      102        1040                 0   \n1      100001  2020-04-28T19:51:46      102        1041                 0   \n2      100001  2020-04-28T19:55:49      102        1042                 0   \n3      100001  2020-04-28T19:58:35      102        1043                 0   \n4      100001  2020-04-28T20:01:40      102        1045                 0   \n\n   purchase_id  event_type  \n0          NaN           1  \n1          NaN           1  \n2          NaN           1  \n3          NaN           1  \n4          NaN           1  ",
      "text/html": "<div>\n<style scoped>\n    .dataframe tbody tr th:only-of-type {\n        vertical-align: middle;\n    }\n\n    .dataframe tbody tr th {\n        vertical-align: top;\n    }\n\n    .dataframe thead th {\n        text-align: right;\n    }\n</style>\n<table border=\"1\" class=\"dataframe\">\n  <thead>\n    <tr style=\"text-align: right;\">\n      <th></th>\n      <th>session_id</th>\n      <th>timestamp</th>\n      <th>user_id</th>\n      <th>product_id</th>\n      <th>offered_discount</th>\n      <th>purchase_id</th>\n      <th>event_type</th>\n    </tr>\n  </thead>\n  <tbody>\n    <tr>\n      <th>0</th>\n      <td>100001</td>\n      <td>2020-04-28T19:48:07</td>\n      <td>102</td>\n      <td>1040</td>\n      <td>0</td>\n      <td>NaN</td>\n      <td>1</td>\n    </tr>\n    <tr>\n      <th>1</th>\n      <td>100001</td>\n      <td>2020-04-28T19:51:46</td>\n      <td>102</td>\n      <td>1041</td>\n      <td>0</td>\n      <td>NaN</td>\n      <td>1</td>\n    </tr>\n    <tr>\n      <th>2</th>\n      <td>100001</td>\n      <td>2020-04-28T19:55:49</td>\n      <td>102</td>\n      <td>1042</td>\n      <td>0</td>\n      <td>NaN</td>\n      <td>1</td>\n    </tr>\n    <tr>\n      <th>3</th>\n      <td>100001</td>\n      <td>2020-04-28T19:58:35</td>\n      <td>102</td>\n      <td>1043</td>\n      <td>0</td>\n      <td>NaN</td>\n      <td>1</td>\n    </tr>\n    <tr>\n      <th>4</th>\n      <td>100001</td>\n      <td>2020-04-28T20:01:40</td>\n      <td>102</td>\n      <td>1045</td>\n      <td>0</td>\n      <td>NaN</td>\n      <td>1</td>\n    </tr>\n  </tbody>\n</table>\n</div>"
     },
     "execution_count": 4,
     "metadata": {},
     "output_type": "execute_result"
    }
   ],
   "source": [
    "from sklearn.preprocessing import LabelEncoder\n",
    "le = LabelEncoder()\n",
    "encoded_events = le.fit_transform(df_sessions['event_type'])\n",
    "\n",
    "df_sessions = df_sessions.drop(columns = ['event_type'])\n",
    "df_sessions[\"event_type\"] = encoded_events\n",
    "\n",
    "df_sessions.head(5)"
   ]
  },
  {
   "cell_type": "markdown",
   "metadata": {},
   "source": [
    "zapisujemy przygotowane dane do pliku"
   ]
  },
  {
   "cell_type": "code",
   "execution_count": 5,
   "metadata": {
    "pycharm": {
     "name": "#%%\n"
    }
   },
   "outputs": [],
   "source": [
    "import json\n",
    "import os\n",
    "\n",
    "directory = './prepared_data'\n",
    "if not os.path.exists(directory):\n",
    "    os.makedirs(directory)\n",
    "\n",
    "\n",
    "\n",
    "out = df_sessions.to_json(orient='records')[1:-1].replace('},{', '}\\n{')\n",
    "\n",
    "\n",
    "with open('./prepared_data/prepared_sessions.jsonl', 'w') as session_file:\n",
    "    session_file.write(out)\n",
    "with open('./prepared_data/preapred_products.json', 'w') as product_file:\n",
    "    json.dump(clean_products,product_file, indent=4)"
   ]
  }
 ],
 "metadata": {
  "kernelspec": {
   "display_name": "Python 3",
   "language": "python",
   "name": "python3"
  },
  "language_info": {
   "codemirror_mode": {
    "name": "ipython",
    "version": 3
   },
   "file_extension": ".py",
   "mimetype": "text/x-python",
   "name": "python",
   "nbconvert_exporter": "python",
   "pygments_lexer": "ipython3",
   "version": "3.9.0"
  }
 },
 "nbformat": 4,
 "nbformat_minor": 4
}