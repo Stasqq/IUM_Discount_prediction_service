{
 "cells": [
  {
   "cell_type": "markdown",
   "metadata": {
    "collapsed": true,
    "pycharm": {
     "name": "#%% md\n"
    }
   },
   "source": [
    "Wyczyszczone dane należy połączyć w jedna tabele. Tutaj zajmiemy się danymi, które nie wymagają encodowania One Hot.\n",
    "Wczytujemy gotowe dane."
   ]
  },
  {
   "cell_type": "code",
   "execution_count": 2,
   "metadata": {
    "pycharm": {
     "name": "#%%\n"
    }
   },
   "outputs": [],
   "source": [
    "from datetime import datetime\n",
    "from json_handler.json_handler import load_jsonl_data, load_json_data"
   ]
  },
  {
   "cell_type": "code",
   "execution_count": 3,
   "metadata": {
    "pycharm": {
     "name": "#%%\n"
    }
   },
   "outputs": [],
   "source": [
    "sessions_list = load_jsonl_data('prepared_data/prepared_sessions.jsonl')\n",
    "products_list = load_json_data('prepared_data/preapred_products.json')\n",
    "users_list = load_jsonl_data('data/input/users.jsonl')"
   ]
  },
  {
   "cell_type": "markdown",
   "metadata": {
    "pycharm": {
     "name": "#%% md\n"
    }
   },
   "source": [
    "W celu łatwiejszego operowania na danych przedstawimy je w postaci obiektów klas, które pomogą nam stworzyć\n",
    "jedną tabelę.\n",
    "Klasa Product przechowywać będzie proste dane bezpośrednio odczytane z pliku."
   ]
  },
  {
   "cell_type": "code",
   "execution_count": 4,
   "metadata": {
    "pycharm": {
     "name": "#%%\n"
    }
   },
   "outputs": [],
   "source": [
    "class Product:\n",
    "    def __init__(self, product_id, price, category):\n",
    "        self.product_id = product_id\n",
    "        self.price = price\n",
    "        self.category = category"
   ]
  },
  {
   "cell_type": "markdown",
   "metadata": {
    "pycharm": {
     "name": "#%% md\n"
    }
   },
   "source": [
    "Klasa User przechowywać będzie zestaw słowników, których kluczami będą ’product_id’, 'discount’, 'category_path’."
   ]
  },
  {
   "cell_type": "code",
   "execution_count": 5,
   "metadata": {
    "pycharm": {
     "name": "#%%\n"
    }
   },
   "outputs": [],
   "source": [
    "class User:\n",
    "    def __init__(self):\n",
    "        self.products_views_number = dict()\n",
    "        self.category_views_number = dict()\n",
    "        self.bought_with_discount_number = dict()\n",
    "        self.bought_products_in_category_number = dict()"
   ]
  },
  {
   "cell_type": "markdown",
   "metadata": {
    "pycharm": {
     "name": "#%% md\n"
    }
   },
   "source": [
    "Klasa Session posiada obiekt typu User oraz Product, dodatkowo dane dodyczące danej sesji. Obiekty tej klasy będą\n",
    "podstawą, z której tworzone będą połączone rekordy wynikowe."
   ]
  },
  {
   "cell_type": "code",
   "execution_count": 6,
   "metadata": {
    "pycharm": {
     "name": "#%%\n"
    }
   },
   "outputs": [],
   "source": [
    "class Session:\n",
    "    def __init__(self, user, product, timestamp, event_type, discount, session_id):\n",
    "        self.user = user\n",
    "        self.product = product\n",
    "        self.timestamp = timestamp\n",
    "        self.event_type = event_type\n",
    "        self.discount = discount\n",
    "        self.session_id = session_id"
   ]
  },
  {
   "cell_type": "markdown",
   "metadata": {
    "pycharm": {
     "name": "#%% md\n"
    }
   },
   "source": [
    "Tworzymy zbioru obiektów."
   ]
  },
  {
   "cell_type": "code",
   "execution_count": 7,
   "metadata": {
    "pycharm": {
     "name": "#%%\n"
    }
   },
   "outputs": [],
   "source": [
    "products = dict()\n",
    "for product in products_list:\n",
    "    products[product['product_id']] = Product(product['product_id'], product['price'], product['category_path'])\n",
    "\n",
    "users = dict()\n",
    "for user in users_list:\n",
    "    users[user['user_id']] = User()\n",
    "\n",
    "sessions = list()\n",
    "for session in sessions_list:\n",
    "    user = users[session['user_id']]\n",
    "    product = products[session['product_id']]\n",
    "    sessions.append(Session(user, product, session['timestamp'], session['event_type'],\n",
    "                            session['offered_discount'], session['session_id']))"
   ]
  },
  {
   "cell_type": "markdown",
   "metadata": {
    "pycharm": {
     "name": "#%% md\n"
    }
   },
   "source": [
    "Tak przygotowane dane umieszczone zostaną w klasie Record, reprezentującej ostateczny rekord w pliku wynikowym."
   ]
  },
  {
   "cell_type": "code",
   "execution_count": 8,
   "metadata": {
    "pycharm": {
     "name": "#%%\n"
    }
   },
   "outputs": [],
   "source": [
    "class Record:\n",
    "    def __init__(self, price, products_views_number, category_views_number, bought_with_discount_number,\n",
    "                 bought_products_in_category_number, discount, elapsed_time):\n",
    "        self.price = price\n",
    "        self.products_views_number = products_views_number\n",
    "        self.category_views_number = category_views_number\n",
    "        self.bought_with_discount_number = bought_with_discount_number\n",
    "        self.bought_products_in_category_number = bought_products_in_category_number\n",
    "        self.discount = discount\n",
    "        self.elapsed_time = elapsed_time"
   ]
  },
  {
   "cell_type": "markdown",
   "metadata": {
    "pycharm": {
     "name": "#%% md\n"
    }
   },
   "source": [
    "Tworzymy listę Recordów i uzupełniamy."
   ]
  },
  {
   "cell_type": "code",
   "execution_count": 9,
   "metadata": {
    "pycharm": {
     "name": "#%%\n"
    }
   },
   "outputs": [],
   "source": [
    "records = list()\n",
    "current_session_id = 0\n",
    "last_session_timestamp = 0\n",
    "elapsed_time = 0\n",
    "for session in sessions:\n",
    "    if current_session_id != session.session_id:\n",
    "        current_session_id = session.session_id\n",
    "        last_session_timestamp = session.timestamp\n",
    "        elapsed_time = datetime.strptime(last_session_timestamp, '%Y-%m-%dT%H:%M:%S') - datetime.strptime(last_session_timestamp, '%Y-%m-%dT%H:%M:%S')\n",
    "    else:\n",
    "        elapsed_time = datetime.strptime(session.timestamp, '%Y-%m-%dT%H:%M:%S') - datetime.strptime(last_session_timestamp, '%Y-%m-%dT%H:%M:%S')\n",
    "        last_session_timestamp = session.timestamp\n",
    "\n",
    "    elapsed_time = elapsed_time.total_seconds()\n",
    "\n",
    "    price = session.product.price\n",
    "\n",
    "    products_views_number = session.user.products_views_number.get(session.product.product_id, 0)\n",
    "    session.user.products_views_number[session.product.product_id] = products_views_number + 1\n",
    "\n",
    "    category_views_number = session.user.category_views_number.get(session.product.category, 0)\n",
    "    session.user.category_views_number[session.product.category] = category_views_number + 1\n",
    "\n",
    "    purchases_with_discount_counter = 0\n",
    "    for x in range(0, session.discount + 1, 5):\n",
    "        purchases_with_discount_counter += session.user.bought_with_discount_number.get(x, 0)\n",
    "\n",
    "    purchases_in_category_number = session.user.bought_products_in_category_number.get(session.product.category, 0)\n",
    "\n",
    "    if session.event_type == 0:\n",
    "        session.user.bought_with_discount_number[session.discount] = session.user.bought_with_discount_number.get(session.discount, 0) + 1\n",
    "        session.user.bought_products_in_category_number[session.product.category] = purchases_in_category_number + 1\n",
    "\n",
    "    records.append(Record(session.product.price, products_views_number, category_views_number,\n",
    "                          purchases_with_discount_counter, purchases_in_category_number,\n",
    "                          session.discount, elapsed_time))"
   ]
  },
  {
   "cell_type": "markdown",
   "metadata": {
    "pycharm": {
     "name": "#%% md\n"
    }
   },
   "source": [
    "Tak utworzony zbiór rekordów zapisujemy do pliku."
   ]
  },
  {
   "cell_type": "code",
   "execution_count": 10,
   "metadata": {
    "pycharm": {
     "name": "#%%\n"
    }
   },
   "outputs": [],
   "source": [
    "import json\n",
    "\n",
    "with open('prepared_data/records.json', 'w') as file:\n",
    "    json.dump([r.__dict__ for r  in records],file, indent=2)\n"
   ]
  },
  {
   "cell_type": "code",
   "execution_count": null,
   "metadata": {},
   "outputs": [],
   "source": []
  }
 ],
 "metadata": {
  "kernelspec": {
   "display_name": "Python 3",
   "language": "python",
   "name": "python3"
  },
  "language_info": {
   "codemirror_mode": {
    "name": "ipython",
    "version": 3
   },
   "file_extension": ".py",
   "mimetype": "text/x-python",
   "name": "python",
   "nbconvert_exporter": "python",
   "pygments_lexer": "ipython3",
   "version": "3.9.0"
  }
 },
 "nbformat": 4,
 "nbformat_minor": 1
}
