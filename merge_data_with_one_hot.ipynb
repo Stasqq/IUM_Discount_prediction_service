{
 "cells": [
  {
   "cell_type": "markdown",
   "metadata": {
    "collapsed": true,
    "pycharm": {
     "name": "#%% md\n"
    }
   },
   "source": [
    "Tutaj zajmiemy się danymi, które wymagają zastosowania encodowania One Hot, z tym przypadku jest to pole category_path.\n",
    "Dodatkowo utworzony zostanie plik z potwierdzeniami zakupu w kolejnych sesjach."
   ]
  },
  {
   "cell_type": "code",
   "execution_count": 1,
   "outputs": [],
   "source": [
    "import pandas as pd\n",
    "from json_handler.json_handler import load_jsonl_data, load_json_data, write_json_file"
   ],
   "metadata": {
    "collapsed": false,
    "pycharm": {
     "name": "#%%\n"
    }
   }
  },
  {
   "cell_type": "code",
   "execution_count": 2,
   "outputs": [],
   "source": [
    "sessions_list = load_jsonl_data('prepared_data/prepared_sessions.jsonl')\n",
    "products_list = load_json_data('prepared_data/preapred_products.json')"
   ],
   "metadata": {
    "collapsed": false,
    "pycharm": {
     "name": "#%%\n"
    }
   }
  },
  {
   "cell_type": "markdown",
   "source": [
    "One Hot - category_path"
   ],
   "metadata": {
    "collapsed": false,
    "pycharm": {
     "name": "#%% md\n"
    }
   }
  },
  {
   "cell_type": "code",
   "execution_count": 3,
   "outputs": [],
   "source": [
    "categories = [product['category_path'] for product in products_list]\n",
    "\n",
    "product_ids = list()\n",
    "for product in products_list:\n",
    "    product_ids.append(product['product_id'])\n",
    "\n",
    "\n",
    "one_hot_categories = pd.get_dummies(categories).values.tolist()\n",
    "one_hot_categories = dict(zip(product_ids, one_hot_categories))\n",
    "\n",
    "sessions = list()\n",
    "purchase_confirms = list()\n",
    "for session in sessions_list:\n",
    "    session_dict = dict()\n",
    "    one_hot_categories_list = one_hot_categories[session['product_id']]\n",
    "    counter = 0\n",
    "    for one_hot in one_hot_categories_list:\n",
    "        session_dict['oh_category'+ str(counter)] = one_hot\n",
    "        counter += 1\n",
    "    sessions.append(session_dict)\n",
    "    if session['event_type'] == 1:\n",
    "        purchase_confirms.append(0)\n",
    "    else:\n",
    "        purchase_confirms.append(1)"
   ],
   "metadata": {
    "collapsed": false,
    "pycharm": {
     "name": "#%%\n"
    }
   }
  },
  {
   "cell_type": "markdown",
   "source": [
    "Utworzony liste kategorii poszczegolnych sesji zapisujemy do pliku"
   ],
   "metadata": {
    "collapsed": false,
    "pycharm": {
     "name": "#%% md\n"
    }
   }
  },
  {
   "cell_type": "code",
   "execution_count": 4,
   "outputs": [],
   "source": [
    "write_json_file('prepared_data/record_categoties.json', sessions)\n",
    "write_json_file('prepared_data/purchase_confirms.json', purchase_confirms)"
   ],
   "metadata": {
    "collapsed": false,
    "pycharm": {
     "name": "#%%\n"
    }
   }
  }
 ],
 "metadata": {
  "kernelspec": {
   "display_name": "Python 3",
   "language": "python",
   "name": "python3"
  },
  "language_info": {
   "codemirror_mode": {
    "name": "ipython",
    "version": 2
   },
   "file_extension": ".py",
   "mimetype": "text/x-python",
   "name": "python",
   "nbconvert_exporter": "python",
   "pygments_lexer": "ipython2",
   "version": "2.7.6"
  }
 },
 "nbformat": 4,
 "nbformat_minor": 0
}