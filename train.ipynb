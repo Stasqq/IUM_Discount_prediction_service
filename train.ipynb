{
 "cells": [
  {
   "cell_type": "code",
   "execution_count": 6,
   "metadata": {},
   "outputs": [],
   "source": [
    "import json \n",
    "import pandas as pd\n",
    "import numpy as np\n",
    "from sklearn.model_selection import train_test_split\n",
    "from sklearn.preprocessing import StandardScaler\n",
    "from json_handler.json_handler import load_json_data"
   ]
  },
  {
   "cell_type": "markdown",
   "metadata": {},
   "source": [
    "podzial danych na testowe i treningowe"
   ]
  },
  {
   "cell_type": "code",
   "execution_count": 7,
   "metadata": {},
   "outputs": [
    {
     "data": {
      "text/plain": "         price  products_views_number  category_views_number  \\\n11391  2317.02                     45                     83   \n18279    44.99                     31                    246   \n18596    86.28                      8                     34   \n51361    76.90                     29                    278   \n42168  5259.00                     14                    129   \n\n       bought_with_discount_number  bought_products_in_category_number  \\\n11391                            2                                   8   \n18279                            0                                   4   \n18596                            0                                   0   \n51361                            0                                  15   \n42168                            0                                   0   \n\n       discount  elapsed_time  oh_category0  oh_category1  oh_category2  ...  \\\n11391        10         189.0             0             0             0  ...   \n18279         5         167.0             0             0             0  ...   \n18596        15         276.0             0             0             0  ...   \n51361         0          14.0             1             0             0  ...   \n42168         0         228.0             0             0             0  ...   \n\n       oh_category5  oh_category6  oh_category7  oh_category8  oh_category9  \\\n11391             1             0             0             0             0   \n18279             0             0             0             0             1   \n18596             0             0             0             0             0   \n51361             0             0             0             0             0   \n42168             0             0             0             0             0   \n\n       oh_category10  oh_category11  oh_category12  oh_category13  \\\n11391              0              0              0              0   \n18279              0              0              0              0   \n18596              0              1              0              0   \n51361              0              0              0              0   \n42168              0              0              0              0   \n\n       oh_category14  \n11391              0  \n18279              0  \n18596              0  \n51361              0  \n42168              0  \n\n[5 rows x 22 columns]",
      "text/html": "<div>\n<style scoped>\n    .dataframe tbody tr th:only-of-type {\n        vertical-align: middle;\n    }\n\n    .dataframe tbody tr th {\n        vertical-align: top;\n    }\n\n    .dataframe thead th {\n        text-align: right;\n    }\n</style>\n<table border=\"1\" class=\"dataframe\">\n  <thead>\n    <tr style=\"text-align: right;\">\n      <th></th>\n      <th>price</th>\n      <th>products_views_number</th>\n      <th>category_views_number</th>\n      <th>bought_with_discount_number</th>\n      <th>bought_products_in_category_number</th>\n      <th>discount</th>\n      <th>elapsed_time</th>\n      <th>oh_category0</th>\n      <th>oh_category1</th>\n      <th>oh_category2</th>\n      <th>...</th>\n      <th>oh_category5</th>\n      <th>oh_category6</th>\n      <th>oh_category7</th>\n      <th>oh_category8</th>\n      <th>oh_category9</th>\n      <th>oh_category10</th>\n      <th>oh_category11</th>\n      <th>oh_category12</th>\n      <th>oh_category13</th>\n      <th>oh_category14</th>\n    </tr>\n  </thead>\n  <tbody>\n    <tr>\n      <th>11391</th>\n      <td>2317.02</td>\n      <td>45</td>\n      <td>83</td>\n      <td>2</td>\n      <td>8</td>\n      <td>10</td>\n      <td>189.0</td>\n      <td>0</td>\n      <td>0</td>\n      <td>0</td>\n      <td>...</td>\n      <td>1</td>\n      <td>0</td>\n      <td>0</td>\n      <td>0</td>\n      <td>0</td>\n      <td>0</td>\n      <td>0</td>\n      <td>0</td>\n      <td>0</td>\n      <td>0</td>\n    </tr>\n    <tr>\n      <th>18279</th>\n      <td>44.99</td>\n      <td>31</td>\n      <td>246</td>\n      <td>0</td>\n      <td>4</td>\n      <td>5</td>\n      <td>167.0</td>\n      <td>0</td>\n      <td>0</td>\n      <td>0</td>\n      <td>...</td>\n      <td>0</td>\n      <td>0</td>\n      <td>0</td>\n      <td>0</td>\n      <td>1</td>\n      <td>0</td>\n      <td>0</td>\n      <td>0</td>\n      <td>0</td>\n      <td>0</td>\n    </tr>\n    <tr>\n      <th>18596</th>\n      <td>86.28</td>\n      <td>8</td>\n      <td>34</td>\n      <td>0</td>\n      <td>0</td>\n      <td>15</td>\n      <td>276.0</td>\n      <td>0</td>\n      <td>0</td>\n      <td>0</td>\n      <td>...</td>\n      <td>0</td>\n      <td>0</td>\n      <td>0</td>\n      <td>0</td>\n      <td>0</td>\n      <td>0</td>\n      <td>1</td>\n      <td>0</td>\n      <td>0</td>\n      <td>0</td>\n    </tr>\n    <tr>\n      <th>51361</th>\n      <td>76.90</td>\n      <td>29</td>\n      <td>278</td>\n      <td>0</td>\n      <td>15</td>\n      <td>0</td>\n      <td>14.0</td>\n      <td>1</td>\n      <td>0</td>\n      <td>0</td>\n      <td>...</td>\n      <td>0</td>\n      <td>0</td>\n      <td>0</td>\n      <td>0</td>\n      <td>0</td>\n      <td>0</td>\n      <td>0</td>\n      <td>0</td>\n      <td>0</td>\n      <td>0</td>\n    </tr>\n    <tr>\n      <th>42168</th>\n      <td>5259.00</td>\n      <td>14</td>\n      <td>129</td>\n      <td>0</td>\n      <td>0</td>\n      <td>0</td>\n      <td>228.0</td>\n      <td>0</td>\n      <td>0</td>\n      <td>0</td>\n      <td>...</td>\n      <td>0</td>\n      <td>0</td>\n      <td>0</td>\n      <td>0</td>\n      <td>0</td>\n      <td>0</td>\n      <td>0</td>\n      <td>0</td>\n      <td>0</td>\n      <td>0</td>\n    </tr>\n  </tbody>\n</table>\n<p>5 rows × 22 columns</p>\n</div>"
     },
     "execution_count": 7,
     "metadata": {},
     "output_type": "execute_result"
    }
   ],
   "source": [
    "records = load_json_data('prepared_data/merged_records.json')\n",
    "purchase_confirms = load_json_data('prepared_data/purchase_confirms.json')\n",
    "\n",
    "dt_records = pd.DataFrame(records)\n",
    "dt_confirms = pd.DataFrame(purchase_confirms)\n",
    "\n",
    "x_train, x_test, y_train, y_test = train_test_split(dt_records,dt_confirms, test_size = 0.3)\n",
    "\n",
    "x_train.head()"
   ]
  },
  {
   "cell_type": "markdown",
   "metadata": {},
   "source": [
    "skalowanie danych"
   ]
  },
  {
   "cell_type": "code",
   "execution_count": 8,
   "metadata": {},
   "outputs": [
    {
     "data": {
      "text/plain": "         0         1         2         3         4         5         6   \\\n0  0.963838  1.651797 -0.848140  0.246025  0.818633  0.641885  0.496778   \n1 -0.500585  0.516598  0.496469 -0.401091  0.012122 -0.047091  0.300115   \n2 -0.473972 -1.348372 -1.252348 -0.401091 -0.794389  1.330860  1.274489   \n3 -0.480018  0.354427  0.760442 -0.401091  2.230028 -0.736067 -1.067584   \n4  2.860073 -0.861858 -0.468680 -0.401091 -0.794389 -0.736067  0.845407   \n\n         7         8        9   ...        12        13        14        15  \\\n0 -0.387030 -0.372947 -0.35903  ...  5.871991 -0.119317 -0.172277 -0.177677   \n1 -0.387030 -0.372947 -0.35903  ... -0.170300 -0.119317 -0.172277 -0.177677   \n2 -0.387030 -0.372947 -0.35903  ... -0.170300 -0.119317 -0.172277 -0.177677   \n3  2.583779 -0.372947 -0.35903  ... -0.170300 -0.119317 -0.172277 -0.177677   \n4 -0.387030 -0.372947 -0.35903  ... -0.170300 -0.119317 -0.172277 -0.177677   \n\n         16        17        18        19        20        21  \n0 -0.373285 -0.121102 -0.236913 -0.205738 -0.164242 -0.122512  \n1  2.678916 -0.121102 -0.236913 -0.205738 -0.164242 -0.122512  \n2 -0.373285 -0.121102  4.220950 -0.205738 -0.164242 -0.122512  \n3 -0.373285 -0.121102 -0.236913 -0.205738 -0.164242 -0.122512  \n4 -0.373285 -0.121102 -0.236913 -0.205738 -0.164242 -0.122512  \n\n[5 rows x 22 columns]",
      "text/html": "<div>\n<style scoped>\n    .dataframe tbody tr th:only-of-type {\n        vertical-align: middle;\n    }\n\n    .dataframe tbody tr th {\n        vertical-align: top;\n    }\n\n    .dataframe thead th {\n        text-align: right;\n    }\n</style>\n<table border=\"1\" class=\"dataframe\">\n  <thead>\n    <tr style=\"text-align: right;\">\n      <th></th>\n      <th>0</th>\n      <th>1</th>\n      <th>2</th>\n      <th>3</th>\n      <th>4</th>\n      <th>5</th>\n      <th>6</th>\n      <th>7</th>\n      <th>8</th>\n      <th>9</th>\n      <th>...</th>\n      <th>12</th>\n      <th>13</th>\n      <th>14</th>\n      <th>15</th>\n      <th>16</th>\n      <th>17</th>\n      <th>18</th>\n      <th>19</th>\n      <th>20</th>\n      <th>21</th>\n    </tr>\n  </thead>\n  <tbody>\n    <tr>\n      <th>0</th>\n      <td>0.963838</td>\n      <td>1.651797</td>\n      <td>-0.848140</td>\n      <td>0.246025</td>\n      <td>0.818633</td>\n      <td>0.641885</td>\n      <td>0.496778</td>\n      <td>-0.387030</td>\n      <td>-0.372947</td>\n      <td>-0.35903</td>\n      <td>...</td>\n      <td>5.871991</td>\n      <td>-0.119317</td>\n      <td>-0.172277</td>\n      <td>-0.177677</td>\n      <td>-0.373285</td>\n      <td>-0.121102</td>\n      <td>-0.236913</td>\n      <td>-0.205738</td>\n      <td>-0.164242</td>\n      <td>-0.122512</td>\n    </tr>\n    <tr>\n      <th>1</th>\n      <td>-0.500585</td>\n      <td>0.516598</td>\n      <td>0.496469</td>\n      <td>-0.401091</td>\n      <td>0.012122</td>\n      <td>-0.047091</td>\n      <td>0.300115</td>\n      <td>-0.387030</td>\n      <td>-0.372947</td>\n      <td>-0.35903</td>\n      <td>...</td>\n      <td>-0.170300</td>\n      <td>-0.119317</td>\n      <td>-0.172277</td>\n      <td>-0.177677</td>\n      <td>2.678916</td>\n      <td>-0.121102</td>\n      <td>-0.236913</td>\n      <td>-0.205738</td>\n      <td>-0.164242</td>\n      <td>-0.122512</td>\n    </tr>\n    <tr>\n      <th>2</th>\n      <td>-0.473972</td>\n      <td>-1.348372</td>\n      <td>-1.252348</td>\n      <td>-0.401091</td>\n      <td>-0.794389</td>\n      <td>1.330860</td>\n      <td>1.274489</td>\n      <td>-0.387030</td>\n      <td>-0.372947</td>\n      <td>-0.35903</td>\n      <td>...</td>\n      <td>-0.170300</td>\n      <td>-0.119317</td>\n      <td>-0.172277</td>\n      <td>-0.177677</td>\n      <td>-0.373285</td>\n      <td>-0.121102</td>\n      <td>4.220950</td>\n      <td>-0.205738</td>\n      <td>-0.164242</td>\n      <td>-0.122512</td>\n    </tr>\n    <tr>\n      <th>3</th>\n      <td>-0.480018</td>\n      <td>0.354427</td>\n      <td>0.760442</td>\n      <td>-0.401091</td>\n      <td>2.230028</td>\n      <td>-0.736067</td>\n      <td>-1.067584</td>\n      <td>2.583779</td>\n      <td>-0.372947</td>\n      <td>-0.35903</td>\n      <td>...</td>\n      <td>-0.170300</td>\n      <td>-0.119317</td>\n      <td>-0.172277</td>\n      <td>-0.177677</td>\n      <td>-0.373285</td>\n      <td>-0.121102</td>\n      <td>-0.236913</td>\n      <td>-0.205738</td>\n      <td>-0.164242</td>\n      <td>-0.122512</td>\n    </tr>\n    <tr>\n      <th>4</th>\n      <td>2.860073</td>\n      <td>-0.861858</td>\n      <td>-0.468680</td>\n      <td>-0.401091</td>\n      <td>-0.794389</td>\n      <td>-0.736067</td>\n      <td>0.845407</td>\n      <td>-0.387030</td>\n      <td>-0.372947</td>\n      <td>-0.35903</td>\n      <td>...</td>\n      <td>-0.170300</td>\n      <td>-0.119317</td>\n      <td>-0.172277</td>\n      <td>-0.177677</td>\n      <td>-0.373285</td>\n      <td>-0.121102</td>\n      <td>-0.236913</td>\n      <td>-0.205738</td>\n      <td>-0.164242</td>\n      <td>-0.122512</td>\n    </tr>\n  </tbody>\n</table>\n<p>5 rows × 22 columns</p>\n</div>"
     },
     "execution_count": 8,
     "metadata": {},
     "output_type": "execute_result"
    }
   ],
   "source": [
    "sc = StandardScaler()\n",
    "x_train = sc.fit_transform(x_train)\n",
    "x_test = sc.transform(x_test)\n",
    "\n",
    "dt_train = pd.DataFrame(x_train)\n",
    "dt_train.head()"
   ]
  },
  {
   "cell_type": "code",
   "execution_count": null,
   "metadata": {},
   "outputs": [],
   "source": [
    " "
   ]
  }
 ],
 "metadata": {
  "kernelspec": {
   "display_name": "Python 3",
   "language": "python",
   "name": "python3"
  },
  "language_info": {
   "codemirror_mode": {
    "name": "ipython",
    "version": 3
   },
   "file_extension": ".py",
   "mimetype": "text/x-python",
   "name": "python",
   "nbconvert_exporter": "python",
   "pygments_lexer": "ipython3",
   "version": "3.9.0"
  }
 },
 "nbformat": 4,
 "nbformat_minor": 4
}