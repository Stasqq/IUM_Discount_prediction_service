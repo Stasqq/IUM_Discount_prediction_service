{
 "cells": [
  {
   "cell_type": "code",
   "execution_count": 10,
   "metadata": {},
   "outputs": [],
   "source": [
    "import json\n",
    "import pickle\n",
    "import pandas as pd\n",
    "import numpy as np\n",
    "from sklearn.model_selection import train_test_split\n",
    "from sklearn.preprocessing import StandardScaler\n",
    "from json_handler.json_handler import load_json_data"
   ]
  },
  {
   "cell_type": "markdown",
   "metadata": {},
   "source": [
    "podzial danych na testowe i treningowe"
   ]
  },
  {
   "cell_type": "code",
   "execution_count": 11,
   "metadata": {
    "scrolled": true
   },
   "outputs": [
    {
     "data": {
      "text/plain": "         price  products_views_number  category_views_number  \\\n16009    32.99                      3                     46   \n50634  2399.00                      2                     21   \n20127  2199.90                      1                      2   \n10765  1998.14                      3                     29   \n40697    44.99                      6                     50   \n\n       bought_with_discount_number  bought_products_in_category_number  \\\n16009                           10                                   1   \n50634                            0                                   0   \n20127                            0                                   0   \n10765                            0                                   0   \n40697                            0                                   1   \n\n       discount  elapsed_time  oh_category0  oh_category1  oh_category2  ...  \\\n16009        20         199.0             1             0             0  ...   \n50634         0         230.0             0             0             0  ...   \n20127         0           0.0             0             0             0  ...   \n10765        20         236.0             0             0             0  ...   \n40697         0         548.0             0             0             0  ...   \n\n       oh_category5  oh_category6  oh_category7  oh_category8  oh_category9  \\\n16009             0             0             0             0             0   \n50634             0             0             0             0             0   \n20127             0             0             0             0             0   \n10765             0             0             0             0             0   \n40697             0             0             0             0             1   \n\n       oh_category10  oh_category11  oh_category12  oh_category13  \\\n16009              0              0              0              0   \n50634              0              0              0              0   \n20127              0              0              0              1   \n10765              0              0              0              0   \n40697              0              0              0              0   \n\n       oh_category14  \n16009              0  \n50634              0  \n20127              0  \n10765              0  \n40697              0  \n\n[5 rows x 22 columns]",
      "text/html": "<div>\n<style scoped>\n    .dataframe tbody tr th:only-of-type {\n        vertical-align: middle;\n    }\n\n    .dataframe tbody tr th {\n        vertical-align: top;\n    }\n\n    .dataframe thead th {\n        text-align: right;\n    }\n</style>\n<table border=\"1\" class=\"dataframe\">\n  <thead>\n    <tr style=\"text-align: right;\">\n      <th></th>\n      <th>price</th>\n      <th>products_views_number</th>\n      <th>category_views_number</th>\n      <th>bought_with_discount_number</th>\n      <th>bought_products_in_category_number</th>\n      <th>discount</th>\n      <th>elapsed_time</th>\n      <th>oh_category0</th>\n      <th>oh_category1</th>\n      <th>oh_category2</th>\n      <th>...</th>\n      <th>oh_category5</th>\n      <th>oh_category6</th>\n      <th>oh_category7</th>\n      <th>oh_category8</th>\n      <th>oh_category9</th>\n      <th>oh_category10</th>\n      <th>oh_category11</th>\n      <th>oh_category12</th>\n      <th>oh_category13</th>\n      <th>oh_category14</th>\n    </tr>\n  </thead>\n  <tbody>\n    <tr>\n      <th>16009</th>\n      <td>32.99</td>\n      <td>3</td>\n      <td>46</td>\n      <td>10</td>\n      <td>1</td>\n      <td>20</td>\n      <td>199.0</td>\n      <td>1</td>\n      <td>0</td>\n      <td>0</td>\n      <td>...</td>\n      <td>0</td>\n      <td>0</td>\n      <td>0</td>\n      <td>0</td>\n      <td>0</td>\n      <td>0</td>\n      <td>0</td>\n      <td>0</td>\n      <td>0</td>\n      <td>0</td>\n    </tr>\n    <tr>\n      <th>50634</th>\n      <td>2399.00</td>\n      <td>2</td>\n      <td>21</td>\n      <td>0</td>\n      <td>0</td>\n      <td>0</td>\n      <td>230.0</td>\n      <td>0</td>\n      <td>0</td>\n      <td>0</td>\n      <td>...</td>\n      <td>0</td>\n      <td>0</td>\n      <td>0</td>\n      <td>0</td>\n      <td>0</td>\n      <td>0</td>\n      <td>0</td>\n      <td>0</td>\n      <td>0</td>\n      <td>0</td>\n    </tr>\n    <tr>\n      <th>20127</th>\n      <td>2199.90</td>\n      <td>1</td>\n      <td>2</td>\n      <td>0</td>\n      <td>0</td>\n      <td>0</td>\n      <td>0.0</td>\n      <td>0</td>\n      <td>0</td>\n      <td>0</td>\n      <td>...</td>\n      <td>0</td>\n      <td>0</td>\n      <td>0</td>\n      <td>0</td>\n      <td>0</td>\n      <td>0</td>\n      <td>0</td>\n      <td>0</td>\n      <td>1</td>\n      <td>0</td>\n    </tr>\n    <tr>\n      <th>10765</th>\n      <td>1998.14</td>\n      <td>3</td>\n      <td>29</td>\n      <td>0</td>\n      <td>0</td>\n      <td>20</td>\n      <td>236.0</td>\n      <td>0</td>\n      <td>0</td>\n      <td>0</td>\n      <td>...</td>\n      <td>0</td>\n      <td>0</td>\n      <td>0</td>\n      <td>0</td>\n      <td>0</td>\n      <td>0</td>\n      <td>0</td>\n      <td>0</td>\n      <td>0</td>\n      <td>0</td>\n    </tr>\n    <tr>\n      <th>40697</th>\n      <td>44.99</td>\n      <td>6</td>\n      <td>50</td>\n      <td>0</td>\n      <td>1</td>\n      <td>0</td>\n      <td>548.0</td>\n      <td>0</td>\n      <td>0</td>\n      <td>0</td>\n      <td>...</td>\n      <td>0</td>\n      <td>0</td>\n      <td>0</td>\n      <td>0</td>\n      <td>1</td>\n      <td>0</td>\n      <td>0</td>\n      <td>0</td>\n      <td>0</td>\n      <td>0</td>\n    </tr>\n  </tbody>\n</table>\n<p>5 rows × 22 columns</p>\n</div>"
     },
     "execution_count": 11,
     "metadata": {},
     "output_type": "execute_result"
    }
   ],
   "source": [
    "records = load_json_data('prepared_data/merged_records.json')\n",
    "purchase_confirms = load_json_data('prepared_data/purchase_confirms.json')\n",
    "\n",
    "dt_records = pd.DataFrame(records)\n",
    "dt_confirms = pd.DataFrame(purchase_confirms)\n",
    "\n",
    "x_train, x_test, y_train, y_test = train_test_split(dt_records,dt_confirms, test_size = 0.2)\n",
    "\n",
    "x_train.head()"
   ]
  },
  {
   "cell_type": "markdown",
   "metadata": {},
   "source": [
    "skalowanie danych"
   ]
  },
  {
   "cell_type": "code",
   "execution_count": 12,
   "metadata": {},
   "outputs": [
    {
     "data": {
      "text/plain": "                 0             1             2             3             4   \\\ncount  4.111600e+04  4.111600e+04  4.111600e+04  4.111600e+04  4.111600e+04   \nmean  -4.017929e-17  1.103526e-16 -7.400767e-17 -4.147540e-18  7.603823e-18   \nstd    1.000012e+00  1.000012e+00  1.000012e+00  1.000012e+00  1.000012e+00   \nmin   -5.185840e-01 -1.030005e+00 -1.033996e+00 -4.017645e-01 -5.065724e-01   \n25%   -4.871596e-01 -5.820687e-01 -7.782914e-01 -4.017645e-01 -5.065724e-01   \n50%   -4.511933e-01 -1.341325e-01 -3.180228e-01 -4.017645e-01 -5.065724e-01   \n75%   -1.142725e-01  7.617400e-01  5.002327e-01 -4.017645e-01  9.231525e-01   \nmax    4.421200e+00  6.584911e+00  5.614329e+00  8.949740e+00  8.071777e+00   \n\n                 5             6             7             8             9   \\\ncount  4.111600e+04  4.111600e+04  4.111600e+04  4.111600e+04  4.111600e+04   \nmean  -5.659664e-17  4.907922e-17 -7.327321e-17  6.186747e-17  2.557650e-17   \nstd    1.000012e+00  1.000012e+00  1.000012e+00  1.000012e+00  1.000012e+00   \nmin   -7.365263e-01 -1.188850e+00 -3.854294e-01 -3.711889e-01 -3.589097e-01   \n25%   -7.365263e-01 -9.740404e-01 -3.854294e-01 -3.711889e-01 -3.589097e-01   \n50%   -7.365263e-01 -7.899901e-02 -3.854294e-01 -3.711889e-01 -3.589097e-01   \n75%    6.427015e-01  7.891912e-01 -3.854294e-01 -3.711889e-01 -3.589097e-01   \nmax    2.021929e+00  6.222093e+00  2.594509e+00  2.694046e+00  2.786216e+00   \n\n       ...            12            13            14            15  \\\ncount  ...  4.111600e+04  4.111600e+04  4.111600e+04  4.111600e+04   \nmean   ... -2.873036e-17  3.110655e-18  3.862397e-17  2.765027e-18   \nstd    ...  1.000012e+00  1.000012e+00  1.000012e+00  1.000012e+00   \nmin    ... -1.709159e-01 -1.169748e-01 -1.712171e-01 -1.789640e-01   \n25%    ... -1.709159e-01 -1.169748e-01 -1.712171e-01 -1.789640e-01   \n50%    ... -1.709159e-01 -1.169748e-01 -1.712171e-01 -1.789640e-01   \n75%    ... -1.709159e-01 -1.169748e-01 -1.712171e-01 -1.789640e-01   \nmax    ...  5.850831e+00  8.548853e+00  5.840537e+00  5.587716e+00   \n\n                 16            17            18            19            20  \\\ncount  4.111600e+04  4.111600e+04  4.111600e+04  4.111600e+04  4.111600e+04   \nmean   9.872009e-18  7.068099e-17 -6.197548e-17  7.515256e-17  2.229303e-17   \nstd    1.000012e+00  1.000012e+00  1.000012e+00  1.000012e+00  1.000012e+00   \nmin   -3.769342e-01 -1.242398e-01 -2.382780e-01 -2.065274e-01 -1.666479e-01   \n25%   -3.769342e-01 -1.242398e-01 -2.382780e-01 -2.065274e-01 -1.666479e-01   \n50%   -3.769342e-01 -1.242398e-01 -2.382780e-01 -2.065274e-01 -1.666479e-01   \n75%   -3.769342e-01 -1.242398e-01 -2.382780e-01 -2.065274e-01 -1.666479e-01   \nmax    2.652983e+00  8.048950e+00  4.196778e+00  4.841974e+00  6.000675e+00   \n\n                 21  \ncount  4.111600e+04  \nmean  -2.808230e-18  \nstd    1.000012e+00  \nmin   -1.226150e-01  \n25%   -1.226150e-01  \n50%   -1.226150e-01  \n75%   -1.226150e-01  \nmax    8.155609e+00  \n\n[8 rows x 22 columns]",
      "text/html": "<div>\n<style scoped>\n    .dataframe tbody tr th:only-of-type {\n        vertical-align: middle;\n    }\n\n    .dataframe tbody tr th {\n        vertical-align: top;\n    }\n\n    .dataframe thead th {\n        text-align: right;\n    }\n</style>\n<table border=\"1\" class=\"dataframe\">\n  <thead>\n    <tr style=\"text-align: right;\">\n      <th></th>\n      <th>0</th>\n      <th>1</th>\n      <th>2</th>\n      <th>3</th>\n      <th>4</th>\n      <th>5</th>\n      <th>6</th>\n      <th>7</th>\n      <th>8</th>\n      <th>9</th>\n      <th>...</th>\n      <th>12</th>\n      <th>13</th>\n      <th>14</th>\n      <th>15</th>\n      <th>16</th>\n      <th>17</th>\n      <th>18</th>\n      <th>19</th>\n      <th>20</th>\n      <th>21</th>\n    </tr>\n  </thead>\n  <tbody>\n    <tr>\n      <th>count</th>\n      <td>4.111600e+04</td>\n      <td>4.111600e+04</td>\n      <td>4.111600e+04</td>\n      <td>4.111600e+04</td>\n      <td>4.111600e+04</td>\n      <td>4.111600e+04</td>\n      <td>4.111600e+04</td>\n      <td>4.111600e+04</td>\n      <td>4.111600e+04</td>\n      <td>4.111600e+04</td>\n      <td>...</td>\n      <td>4.111600e+04</td>\n      <td>4.111600e+04</td>\n      <td>4.111600e+04</td>\n      <td>4.111600e+04</td>\n      <td>4.111600e+04</td>\n      <td>4.111600e+04</td>\n      <td>4.111600e+04</td>\n      <td>4.111600e+04</td>\n      <td>4.111600e+04</td>\n      <td>4.111600e+04</td>\n    </tr>\n    <tr>\n      <th>mean</th>\n      <td>-4.017929e-17</td>\n      <td>1.103526e-16</td>\n      <td>-7.400767e-17</td>\n      <td>-4.147540e-18</td>\n      <td>7.603823e-18</td>\n      <td>-5.659664e-17</td>\n      <td>4.907922e-17</td>\n      <td>-7.327321e-17</td>\n      <td>6.186747e-17</td>\n      <td>2.557650e-17</td>\n      <td>...</td>\n      <td>-2.873036e-17</td>\n      <td>3.110655e-18</td>\n      <td>3.862397e-17</td>\n      <td>2.765027e-18</td>\n      <td>9.872009e-18</td>\n      <td>7.068099e-17</td>\n      <td>-6.197548e-17</td>\n      <td>7.515256e-17</td>\n      <td>2.229303e-17</td>\n      <td>-2.808230e-18</td>\n    </tr>\n    <tr>\n      <th>std</th>\n      <td>1.000012e+00</td>\n      <td>1.000012e+00</td>\n      <td>1.000012e+00</td>\n      <td>1.000012e+00</td>\n      <td>1.000012e+00</td>\n      <td>1.000012e+00</td>\n      <td>1.000012e+00</td>\n      <td>1.000012e+00</td>\n      <td>1.000012e+00</td>\n      <td>1.000012e+00</td>\n      <td>...</td>\n      <td>1.000012e+00</td>\n      <td>1.000012e+00</td>\n      <td>1.000012e+00</td>\n      <td>1.000012e+00</td>\n      <td>1.000012e+00</td>\n      <td>1.000012e+00</td>\n      <td>1.000012e+00</td>\n      <td>1.000012e+00</td>\n      <td>1.000012e+00</td>\n      <td>1.000012e+00</td>\n    </tr>\n    <tr>\n      <th>min</th>\n      <td>-5.185840e-01</td>\n      <td>-1.030005e+00</td>\n      <td>-1.033996e+00</td>\n      <td>-4.017645e-01</td>\n      <td>-5.065724e-01</td>\n      <td>-7.365263e-01</td>\n      <td>-1.188850e+00</td>\n      <td>-3.854294e-01</td>\n      <td>-3.711889e-01</td>\n      <td>-3.589097e-01</td>\n      <td>...</td>\n      <td>-1.709159e-01</td>\n      <td>-1.169748e-01</td>\n      <td>-1.712171e-01</td>\n      <td>-1.789640e-01</td>\n      <td>-3.769342e-01</td>\n      <td>-1.242398e-01</td>\n      <td>-2.382780e-01</td>\n      <td>-2.065274e-01</td>\n      <td>-1.666479e-01</td>\n      <td>-1.226150e-01</td>\n    </tr>\n    <tr>\n      <th>25%</th>\n      <td>-4.871596e-01</td>\n      <td>-5.820687e-01</td>\n      <td>-7.782914e-01</td>\n      <td>-4.017645e-01</td>\n      <td>-5.065724e-01</td>\n      <td>-7.365263e-01</td>\n      <td>-9.740404e-01</td>\n      <td>-3.854294e-01</td>\n      <td>-3.711889e-01</td>\n      <td>-3.589097e-01</td>\n      <td>...</td>\n      <td>-1.709159e-01</td>\n      <td>-1.169748e-01</td>\n      <td>-1.712171e-01</td>\n      <td>-1.789640e-01</td>\n      <td>-3.769342e-01</td>\n      <td>-1.242398e-01</td>\n      <td>-2.382780e-01</td>\n      <td>-2.065274e-01</td>\n      <td>-1.666479e-01</td>\n      <td>-1.226150e-01</td>\n    </tr>\n    <tr>\n      <th>50%</th>\n      <td>-4.511933e-01</td>\n      <td>-1.341325e-01</td>\n      <td>-3.180228e-01</td>\n      <td>-4.017645e-01</td>\n      <td>-5.065724e-01</td>\n      <td>-7.365263e-01</td>\n      <td>-7.899901e-02</td>\n      <td>-3.854294e-01</td>\n      <td>-3.711889e-01</td>\n      <td>-3.589097e-01</td>\n      <td>...</td>\n      <td>-1.709159e-01</td>\n      <td>-1.169748e-01</td>\n      <td>-1.712171e-01</td>\n      <td>-1.789640e-01</td>\n      <td>-3.769342e-01</td>\n      <td>-1.242398e-01</td>\n      <td>-2.382780e-01</td>\n      <td>-2.065274e-01</td>\n      <td>-1.666479e-01</td>\n      <td>-1.226150e-01</td>\n    </tr>\n    <tr>\n      <th>75%</th>\n      <td>-1.142725e-01</td>\n      <td>7.617400e-01</td>\n      <td>5.002327e-01</td>\n      <td>-4.017645e-01</td>\n      <td>9.231525e-01</td>\n      <td>6.427015e-01</td>\n      <td>7.891912e-01</td>\n      <td>-3.854294e-01</td>\n      <td>-3.711889e-01</td>\n      <td>-3.589097e-01</td>\n      <td>...</td>\n      <td>-1.709159e-01</td>\n      <td>-1.169748e-01</td>\n      <td>-1.712171e-01</td>\n      <td>-1.789640e-01</td>\n      <td>-3.769342e-01</td>\n      <td>-1.242398e-01</td>\n      <td>-2.382780e-01</td>\n      <td>-2.065274e-01</td>\n      <td>-1.666479e-01</td>\n      <td>-1.226150e-01</td>\n    </tr>\n    <tr>\n      <th>max</th>\n      <td>4.421200e+00</td>\n      <td>6.584911e+00</td>\n      <td>5.614329e+00</td>\n      <td>8.949740e+00</td>\n      <td>8.071777e+00</td>\n      <td>2.021929e+00</td>\n      <td>6.222093e+00</td>\n      <td>2.594509e+00</td>\n      <td>2.694046e+00</td>\n      <td>2.786216e+00</td>\n      <td>...</td>\n      <td>5.850831e+00</td>\n      <td>8.548853e+00</td>\n      <td>5.840537e+00</td>\n      <td>5.587716e+00</td>\n      <td>2.652983e+00</td>\n      <td>8.048950e+00</td>\n      <td>4.196778e+00</td>\n      <td>4.841974e+00</td>\n      <td>6.000675e+00</td>\n      <td>8.155609e+00</td>\n    </tr>\n  </tbody>\n</table>\n<p>8 rows × 22 columns</p>\n</div>"
     },
     "execution_count": 12,
     "metadata": {},
     "output_type": "execute_result"
    }
   ],
   "source": [
    "sc = StandardScaler()\n",
    "x_train = sc.fit_transform(x_train)\n",
    "x_test = sc.transform(x_test)\n",
    "\n",
    "dt_train = pd.DataFrame(x_train)\n",
    "\n",
    "dt_test = pd.DataFrame(x_test)\n",
    "\n",
    "\n",
    "dt_train.describe()"
   ]
  },
  {
   "cell_type": "code",
   "execution_count": 13,
   "metadata": {},
   "outputs": [
    {
     "data": {
      "text/plain": "                  0\ncount  10280.000000\nmean       0.029572\nstd        0.169412\nmin        0.000000\n25%        0.000000\n50%        0.000000\n75%        0.000000\nmax        1.000000",
      "text/html": "<div>\n<style scoped>\n    .dataframe tbody tr th:only-of-type {\n        vertical-align: middle;\n    }\n\n    .dataframe tbody tr th {\n        vertical-align: top;\n    }\n\n    .dataframe thead th {\n        text-align: right;\n    }\n</style>\n<table border=\"1\" class=\"dataframe\">\n  <thead>\n    <tr style=\"text-align: right;\">\n      <th></th>\n      <th>0</th>\n    </tr>\n  </thead>\n  <tbody>\n    <tr>\n      <th>count</th>\n      <td>10280.000000</td>\n    </tr>\n    <tr>\n      <th>mean</th>\n      <td>0.029572</td>\n    </tr>\n    <tr>\n      <th>std</th>\n      <td>0.169412</td>\n    </tr>\n    <tr>\n      <th>min</th>\n      <td>0.000000</td>\n    </tr>\n    <tr>\n      <th>25%</th>\n      <td>0.000000</td>\n    </tr>\n    <tr>\n      <th>50%</th>\n      <td>0.000000</td>\n    </tr>\n    <tr>\n      <th>75%</th>\n      <td>0.000000</td>\n    </tr>\n    <tr>\n      <th>max</th>\n      <td>1.000000</td>\n    </tr>\n  </tbody>\n</table>\n</div>"
     },
     "execution_count": 13,
     "metadata": {},
     "output_type": "execute_result"
    }
   ],
   "source": [
    " \n",
    "y_test.describe()"
   ]
  },
  {
   "cell_type": "code",
   "execution_count": 14,
   "metadata": {},
   "outputs": [],
   "source": [
    "from sklearn.dummy import DummyClassifier\n",
    "from sklearn.linear_model import LogisticRegression\n",
    "from sklearn.ensemble import RandomForestClassifier\n",
    "\n",
    "\n",
    "\n",
    "dummy = DummyClassifier().fit(x_train, y_train)\n",
    "regression = LogisticRegression().fit(x_train, np.ravel(y_train))"
   ]
  },
  {
   "cell_type": "code",
   "execution_count": 15,
   "metadata": {},
   "outputs": [
    {
     "data": {
      "text/plain": "0.9704280155642023"
     },
     "execution_count": 15,
     "metadata": {},
     "output_type": "execute_result"
    }
   ],
   "source": [
    "dummy.score(x_test,y_test)"
   ]
  },
  {
   "cell_type": "code",
   "execution_count": 16,
   "metadata": {},
   "outputs": [
    {
     "data": {
      "text/plain": "0.9705252918287938"
     },
     "execution_count": 16,
     "metadata": {},
     "output_type": "execute_result"
    }
   ],
   "source": [
    "regression.score(x_test,y_test)"
   ]
  },
  {
   "cell_type": "code",
   "execution_count": 17,
   "metadata": {},
   "outputs": [
    {
     "data": {
      "text/plain": "       0\n16009  0\n50634  0\n20127  0\n10765  0\n40697  0\n...   ..\n25437  0\n18030  0\n46153  0\n32365  0\n35265  0\n\n[41116 rows x 1 columns]",
      "text/html": "<div>\n<style scoped>\n    .dataframe tbody tr th:only-of-type {\n        vertical-align: middle;\n    }\n\n    .dataframe tbody tr th {\n        vertical-align: top;\n    }\n\n    .dataframe thead th {\n        text-align: right;\n    }\n</style>\n<table border=\"1\" class=\"dataframe\">\n  <thead>\n    <tr style=\"text-align: right;\">\n      <th></th>\n      <th>0</th>\n    </tr>\n  </thead>\n  <tbody>\n    <tr>\n      <th>16009</th>\n      <td>0</td>\n    </tr>\n    <tr>\n      <th>50634</th>\n      <td>0</td>\n    </tr>\n    <tr>\n      <th>20127</th>\n      <td>0</td>\n    </tr>\n    <tr>\n      <th>10765</th>\n      <td>0</td>\n    </tr>\n    <tr>\n      <th>40697</th>\n      <td>0</td>\n    </tr>\n    <tr>\n      <th>...</th>\n      <td>...</td>\n    </tr>\n    <tr>\n      <th>25437</th>\n      <td>0</td>\n    </tr>\n    <tr>\n      <th>18030</th>\n      <td>0</td>\n    </tr>\n    <tr>\n      <th>46153</th>\n      <td>0</td>\n    </tr>\n    <tr>\n      <th>32365</th>\n      <td>0</td>\n    </tr>\n    <tr>\n      <th>35265</th>\n      <td>0</td>\n    </tr>\n  </tbody>\n</table>\n<p>41116 rows × 1 columns</p>\n</div>"
     },
     "execution_count": 17,
     "metadata": {},
     "output_type": "execute_result"
    }
   ],
   "source": [
    "y_train"
   ]
  },
  {
   "cell_type": "code",
   "execution_count": 20,
   "metadata": {},
   "outputs": [],
   "source": [
    "with open('models/dummy.pckl', 'wb') as file:\n",
    "    pickle.dump(dummy, file)\n",
    "\n",
    "with open('models/regression.pckl', 'wb') as file:\n",
    "    pickle.dump(regression, file)\n"
   ]
  }
 ],
 "metadata": {
  "kernelspec": {
   "display_name": "Python 3",
   "language": "python",
   "name": "python3"
  },
  "language_info": {
   "codemirror_mode": {
    "name": "ipython",
    "version": 3
   },
   "file_extension": ".py",
   "mimetype": "text/x-python",
   "name": "python",
   "nbconvert_exporter": "python",
   "pygments_lexer": "ipython3",
   "version": "3.9.0"
  }
 },
 "nbformat": 4,
 "nbformat_minor": 4
}