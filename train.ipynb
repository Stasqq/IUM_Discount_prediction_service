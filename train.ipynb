{
 "cells": [
  {
   "cell_type": "code",
   "execution_count": null,
   "metadata": {},
   "outputs": [],
   "source": [
    "import json \n",
    "import pandas as pd\n",
    "import numpy as np\n",
    "from sklearn.model_selection import train_test_split\n",
    "from sklearn.preprocessing import StandardScaler\n",
    "from json_handler.json_handler import load_json_data"
   ]
  },
  {
   "cell_type": "markdown",
   "metadata": {},
   "source": [
    "podzial danych na testowe i treningowe"
   ]
  },
  {
   "cell_type": "code",
   "execution_count": null,
   "metadata": {
    "scrolled": true
   },
   "outputs": [],
   "source": [
    "records = load_json_data('prepared_data/merged_records.json')\n",
    "purchase_confirms = load_json_data('prepared_data/purchase_confirms.json')\n",
    "\n",
    "dt_records = pd.DataFrame(records)\n",
    "dt_confirms = pd.DataFrame(purchase_confirms)\n",
    "\n",
    "x_train, x_test, y_train, y_test = train_test_split(dt_records,dt_confirms, test_size = 0.2)\n",
    "\n",
    "x_train.head()"
   ]
  },
  {
   "cell_type": "markdown",
   "metadata": {},
   "source": [
    "skalowanie danych"
   ]
  },
  {
   "cell_type": "code",
   "execution_count": null,
   "metadata": {},
   "outputs": [],
   "source": [
    "sc = StandardScaler()\n",
    "x_train = sc.fit_transform(x_train)\n",
    "x_test = sc.transform(x_test)\n",
    "\n",
    "dt_train = pd.DataFrame(x_train)\n",
    "\n",
    "dt_test = pd.DataFrame(x_test)\n",
    "\n",
    "\n",
    "dt_train.describe()"
   ]
  },
  {
   "cell_type": "markdown",
   "metadata": {},
   "source": [
    "jak widac dane dotyczące zachowania użytkownika są bardzo niezbalansowane, zdecydowana większość zachowań\n",
    "to wyświetlenie a nie kupienie produktu"
   ]
  },
  {
   "cell_type": "code",
   "execution_count": 79,
   "metadata": {},
   "outputs": [
    {
     "data": {
      "text/plain": [
       "0    9977\n",
       "1     303\n",
       "dtype: int64"
      ]
     },
     "execution_count": 79,
     "metadata": {},
     "output_type": "execute_result"
    }
   ],
   "source": [
    " \n",
    "y_test.value_counts()"
   ]
  },
  {
   "cell_type": "code",
   "execution_count": 78,
   "metadata": {},
   "outputs": [
    {
     "data": {
      "text/plain": [
       "0    39828\n",
       "1     1288\n",
       "dtype: int64"
      ]
     },
     "execution_count": 78,
     "metadata": {},
     "output_type": "execute_result"
    }
   ],
   "source": [
    "y_train.value_counts()"
   ]
  },
  {
   "cell_type": "markdown",
   "metadata": {},
   "source": [
    "Na początek spróbujemy użyc dummy classifier. Widać , że wynik jest bardzo dobry, ale wynika to z tego, że dane są niezbalansowane. Nasz model wybiera zawsze 0 "
   ]
  },
  {
   "cell_type": "code",
   "execution_count": null,
   "metadata": {},
   "outputs": [],
   "source": [
    "from sklearn.dummy import DummyClassifier\n",
    "\n",
    "\n",
    "dummy = DummyClassifier().fit(x_train, y_train)\n",
    "dummy_pred = dummy.predict(x_test)\n",
    "print( accuracy_score(dummy_pred, y_test) )\n",
    "print( np.unique( dummy_pred ) )"
   ]
  },
  {
   "cell_type": "code",
   "execution_count": null,
   "metadata": {},
   "outputs": [],
   "source": [
    "from sklearn.svm import SVC\n",
    "\n",
    "clf_3 = SVC(kernel='linear', \n",
    "            class_weight='balanced',\n",
    "            probability=True)\n",
    "clf_3.fit(x_train, np.ravel(y_train))\n",
    "\n",
    "svc_pred = clf_3.predict(x_test)\n",
    "\n",
    "print( np.unique( svc_pred ) )\n",
    "# print( accuracy_score(y_test, svc_pred) )"
   ]
  },
  {
   "cell_type": "code",
   "execution_count": null,
   "metadata": {},
   "outputs": [],
   "source": [
    "from sklearn.metrics import accuracy_score\n",
    "\n",
    "regression = LogisticRegression().fit(x_train, np.ravel(y_train))\n",
    "regression_pred = regression.predict(x_test)\n",
    "print( accuracy_score(regression_pred, y_test) )\n",
    "print( np.unique( regression_pred ) )"
   ]
  },
  {
   "cell_type": "code",
   "execution_count": null,
   "metadata": {},
   "outputs": [],
   "source": []
  },
  {
   "cell_type": "code",
   "execution_count": null,
   "metadata": {},
   "outputs": [],
   "source": [
    "dummy.score(x_test,y_test)"
   ]
  },
  {
   "cell_type": "code",
   "execution_count": null,
   "metadata": {},
   "outputs": [],
   "source": [
    "regression.score(x_test,y_test)"
   ]
  },
  {
   "cell_type": "code",
   "execution_count": null,
   "metadata": {},
   "outputs": [],
   "source": [
    "y_train"
   ]
  },
  {
   "cell_type": "code",
   "execution_count": null,
   "metadata": {},
   "outputs": [],
   "source": []
  },
  {
   "cell_type": "code",
   "execution_count": null,
   "metadata": {},
   "outputs": [],
   "source": []
  }
 ],
 "metadata": {
  "kernelspec": {
   "display_name": "Python 3",
   "language": "python",
   "name": "python3"
  }
 },
 "nbformat": 4,
 "nbformat_minor": 4
}
