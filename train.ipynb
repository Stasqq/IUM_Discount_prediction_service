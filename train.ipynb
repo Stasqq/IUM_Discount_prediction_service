{
 "cells": [
  {
   "cell_type": "code",
   "execution_count": 1,
   "metadata": {},
   "outputs": [],
   "source": [
    "import json \n",
    "import pandas as pd\n",
    "import numpy as np\n",
    "from sklearn.model_selection import train_test_split\n",
    "from sklearn.preprocessing import StandardScaler\n",
    "from json_handler.json_handler import load_json_data"
   ]
  },
  {
   "cell_type": "markdown",
   "metadata": {},
   "source": [
    "podzial danych na testowe i treningowe"
   ]
  },
  {
   "cell_type": "code",
   "execution_count": 2,
   "metadata": {},
   "outputs": [
    {
     "data": {
      "text/plain": "       price  products_views_number  category_views_number  \\\n12459  79.90                      0                      1   \n31315  89.99                      1                     11   \n38060  19.99                      1                     18   \n37270  89.99                      5                     64   \n20614  99.99                      0                      8   \n\n       bought_with_discount_number  bought_products_in_category_number  \\\n12459                            0                                   0   \n31315                            0                                   0   \n38060                            0                                   0   \n37270                            0                                   2   \n20614                            0                                   0   \n\n       discount  elapsed_time  oh_category0  oh_category1  oh_category2  ...  \\\n12459        20         185.0             0             1             0  ...   \n31315         0          15.0             0             0             1  ...   \n38060         0         235.0             1             0             0  ...   \n37270         0         182.0             0             0             1  ...   \n20614         0         230.0             0             1             0  ...   \n\n       oh_category5  oh_category6  oh_category7  oh_category8  oh_category9  \\\n12459             0             0             0             0             0   \n31315             0             0             0             0             0   \n38060             0             0             0             0             0   \n37270             0             0             0             0             0   \n20614             0             0             0             0             0   \n\n       oh_category10  oh_category11  oh_category12  oh_category13  \\\n12459              0              0              0              0   \n31315              0              0              0              0   \n38060              0              0              0              0   \n37270              0              0              0              0   \n20614              0              0              0              0   \n\n       oh_category14  \n12459              0  \n31315              0  \n38060              0  \n37270              0  \n20614              0  \n\n[5 rows x 22 columns]",
      "text/html": "<div>\n<style scoped>\n    .dataframe tbody tr th:only-of-type {\n        vertical-align: middle;\n    }\n\n    .dataframe tbody tr th {\n        vertical-align: top;\n    }\n\n    .dataframe thead th {\n        text-align: right;\n    }\n</style>\n<table border=\"1\" class=\"dataframe\">\n  <thead>\n    <tr style=\"text-align: right;\">\n      <th></th>\n      <th>price</th>\n      <th>products_views_number</th>\n      <th>category_views_number</th>\n      <th>bought_with_discount_number</th>\n      <th>bought_products_in_category_number</th>\n      <th>discount</th>\n      <th>elapsed_time</th>\n      <th>oh_category0</th>\n      <th>oh_category1</th>\n      <th>oh_category2</th>\n      <th>...</th>\n      <th>oh_category5</th>\n      <th>oh_category6</th>\n      <th>oh_category7</th>\n      <th>oh_category8</th>\n      <th>oh_category9</th>\n      <th>oh_category10</th>\n      <th>oh_category11</th>\n      <th>oh_category12</th>\n      <th>oh_category13</th>\n      <th>oh_category14</th>\n    </tr>\n  </thead>\n  <tbody>\n    <tr>\n      <th>12459</th>\n      <td>79.90</td>\n      <td>0</td>\n      <td>1</td>\n      <td>0</td>\n      <td>0</td>\n      <td>20</td>\n      <td>185.0</td>\n      <td>0</td>\n      <td>1</td>\n      <td>0</td>\n      <td>...</td>\n      <td>0</td>\n      <td>0</td>\n      <td>0</td>\n      <td>0</td>\n      <td>0</td>\n      <td>0</td>\n      <td>0</td>\n      <td>0</td>\n      <td>0</td>\n      <td>0</td>\n    </tr>\n    <tr>\n      <th>31315</th>\n      <td>89.99</td>\n      <td>1</td>\n      <td>11</td>\n      <td>0</td>\n      <td>0</td>\n      <td>0</td>\n      <td>15.0</td>\n      <td>0</td>\n      <td>0</td>\n      <td>1</td>\n      <td>...</td>\n      <td>0</td>\n      <td>0</td>\n      <td>0</td>\n      <td>0</td>\n      <td>0</td>\n      <td>0</td>\n      <td>0</td>\n      <td>0</td>\n      <td>0</td>\n      <td>0</td>\n    </tr>\n    <tr>\n      <th>38060</th>\n      <td>19.99</td>\n      <td>1</td>\n      <td>18</td>\n      <td>0</td>\n      <td>0</td>\n      <td>0</td>\n      <td>235.0</td>\n      <td>1</td>\n      <td>0</td>\n      <td>0</td>\n      <td>...</td>\n      <td>0</td>\n      <td>0</td>\n      <td>0</td>\n      <td>0</td>\n      <td>0</td>\n      <td>0</td>\n      <td>0</td>\n      <td>0</td>\n      <td>0</td>\n      <td>0</td>\n    </tr>\n    <tr>\n      <th>37270</th>\n      <td>89.99</td>\n      <td>5</td>\n      <td>64</td>\n      <td>0</td>\n      <td>2</td>\n      <td>0</td>\n      <td>182.0</td>\n      <td>0</td>\n      <td>0</td>\n      <td>1</td>\n      <td>...</td>\n      <td>0</td>\n      <td>0</td>\n      <td>0</td>\n      <td>0</td>\n      <td>0</td>\n      <td>0</td>\n      <td>0</td>\n      <td>0</td>\n      <td>0</td>\n      <td>0</td>\n    </tr>\n    <tr>\n      <th>20614</th>\n      <td>99.99</td>\n      <td>0</td>\n      <td>8</td>\n      <td>0</td>\n      <td>0</td>\n      <td>0</td>\n      <td>230.0</td>\n      <td>0</td>\n      <td>1</td>\n      <td>0</td>\n      <td>...</td>\n      <td>0</td>\n      <td>0</td>\n      <td>0</td>\n      <td>0</td>\n      <td>0</td>\n      <td>0</td>\n      <td>0</td>\n      <td>0</td>\n      <td>0</td>\n      <td>0</td>\n    </tr>\n  </tbody>\n</table>\n<p>5 rows × 22 columns</p>\n</div>"
     },
     "execution_count": 2,
     "metadata": {},
     "output_type": "execute_result"
    }
   ],
   "source": [
    "records = load_json_data('prepared_data/merged_records.json')\n",
    "purchase_confirms = load_json_data('prepared_data/purchase_confirms.json')\n",
    "\n",
    "dt_records = pd.DataFrame(records)\n",
    "dt_confirms = pd.DataFrame(purchase_confirms)\n",
    "\n",
    "x_train, x_test, y_train, y_test = train_test_split(dt_records,dt_confirms, test_size = 0.3)\n",
    "\n",
    "x_train.head()"
   ]
  },
  {
   "cell_type": "markdown",
   "metadata": {},
   "source": [
    "skalowanie danych"
   ]
  },
  {
   "cell_type": "code",
   "execution_count": 3,
   "metadata": {},
   "outputs": [
    {
     "data": {
      "text/plain": "         0         1         2         3         4         5         6   \\\n0 -0.444182 -0.134272 -0.419993 -0.399744 -0.504928 -0.733507 -0.734181   \n1 -0.334477  0.313929 -0.522313 -0.399744 -0.504928 -0.733507 -1.189512   \n2 -0.506139 -0.582473 -0.317672 -0.399744 -0.504928 -0.733507  0.310403   \n3 -0.517754 -0.582473 -0.880433 -0.399744 -0.504928  2.022205  1.238922   \n4 -0.498395 -0.134272  0.245088 -0.399744 -0.504928  1.333277  2.738837   \n\n         7         8         9   ...        12       13        14        15  \\\n0 -0.387979 -0.368728 -0.359622  ... -0.172448 -0.11775 -0.172619 -0.177926   \n1 -0.387979 -0.368728 -0.359622  ... -0.172448 -0.11775 -0.172619 -0.177926   \n2  2.577459 -0.368728 -0.359622  ... -0.172448 -0.11775 -0.172619 -0.177926   \n3 -0.387979 -0.368728 -0.359622  ... -0.172448 -0.11775 -0.172619 -0.177926   \n4 -0.387979 -0.368728 -0.359622  ... -0.172448 -0.11775 -0.172619 -0.177926   \n\n         16        17        18        19        20        21  \n0 -0.375794 -0.125287  4.151466 -0.205591 -0.163257 -0.121102  \n1 -0.375794 -0.125287  4.151466 -0.205591 -0.163257 -0.121102  \n2 -0.375794 -0.125287 -0.240879 -0.205591 -0.163257 -0.121102  \n3 -0.375794 -0.125287 -0.240879  4.864018 -0.163257 -0.121102  \n4  2.661031 -0.125287 -0.240879 -0.205591 -0.163257 -0.121102  \n\n[5 rows x 22 columns]",
      "text/html": "<div>\n<style scoped>\n    .dataframe tbody tr th:only-of-type {\n        vertical-align: middle;\n    }\n\n    .dataframe tbody tr th {\n        vertical-align: top;\n    }\n\n    .dataframe thead th {\n        text-align: right;\n    }\n</style>\n<table border=\"1\" class=\"dataframe\">\n  <thead>\n    <tr style=\"text-align: right;\">\n      <th></th>\n      <th>0</th>\n      <th>1</th>\n      <th>2</th>\n      <th>3</th>\n      <th>4</th>\n      <th>5</th>\n      <th>6</th>\n      <th>7</th>\n      <th>8</th>\n      <th>9</th>\n      <th>...</th>\n      <th>12</th>\n      <th>13</th>\n      <th>14</th>\n      <th>15</th>\n      <th>16</th>\n      <th>17</th>\n      <th>18</th>\n      <th>19</th>\n      <th>20</th>\n      <th>21</th>\n    </tr>\n  </thead>\n  <tbody>\n    <tr>\n      <th>0</th>\n      <td>-0.444182</td>\n      <td>-0.134272</td>\n      <td>-0.419993</td>\n      <td>-0.399744</td>\n      <td>-0.504928</td>\n      <td>-0.733507</td>\n      <td>-0.734181</td>\n      <td>-0.387979</td>\n      <td>-0.368728</td>\n      <td>-0.359622</td>\n      <td>...</td>\n      <td>-0.172448</td>\n      <td>-0.11775</td>\n      <td>-0.172619</td>\n      <td>-0.177926</td>\n      <td>-0.375794</td>\n      <td>-0.125287</td>\n      <td>4.151466</td>\n      <td>-0.205591</td>\n      <td>-0.163257</td>\n      <td>-0.121102</td>\n    </tr>\n    <tr>\n      <th>1</th>\n      <td>-0.334477</td>\n      <td>0.313929</td>\n      <td>-0.522313</td>\n      <td>-0.399744</td>\n      <td>-0.504928</td>\n      <td>-0.733507</td>\n      <td>-1.189512</td>\n      <td>-0.387979</td>\n      <td>-0.368728</td>\n      <td>-0.359622</td>\n      <td>...</td>\n      <td>-0.172448</td>\n      <td>-0.11775</td>\n      <td>-0.172619</td>\n      <td>-0.177926</td>\n      <td>-0.375794</td>\n      <td>-0.125287</td>\n      <td>4.151466</td>\n      <td>-0.205591</td>\n      <td>-0.163257</td>\n      <td>-0.121102</td>\n    </tr>\n    <tr>\n      <th>2</th>\n      <td>-0.506139</td>\n      <td>-0.582473</td>\n      <td>-0.317672</td>\n      <td>-0.399744</td>\n      <td>-0.504928</td>\n      <td>-0.733507</td>\n      <td>0.310403</td>\n      <td>2.577459</td>\n      <td>-0.368728</td>\n      <td>-0.359622</td>\n      <td>...</td>\n      <td>-0.172448</td>\n      <td>-0.11775</td>\n      <td>-0.172619</td>\n      <td>-0.177926</td>\n      <td>-0.375794</td>\n      <td>-0.125287</td>\n      <td>-0.240879</td>\n      <td>-0.205591</td>\n      <td>-0.163257</td>\n      <td>-0.121102</td>\n    </tr>\n    <tr>\n      <th>3</th>\n      <td>-0.517754</td>\n      <td>-0.582473</td>\n      <td>-0.880433</td>\n      <td>-0.399744</td>\n      <td>-0.504928</td>\n      <td>2.022205</td>\n      <td>1.238922</td>\n      <td>-0.387979</td>\n      <td>-0.368728</td>\n      <td>-0.359622</td>\n      <td>...</td>\n      <td>-0.172448</td>\n      <td>-0.11775</td>\n      <td>-0.172619</td>\n      <td>-0.177926</td>\n      <td>-0.375794</td>\n      <td>-0.125287</td>\n      <td>-0.240879</td>\n      <td>4.864018</td>\n      <td>-0.163257</td>\n      <td>-0.121102</td>\n    </tr>\n    <tr>\n      <th>4</th>\n      <td>-0.498395</td>\n      <td>-0.134272</td>\n      <td>0.245088</td>\n      <td>-0.399744</td>\n      <td>-0.504928</td>\n      <td>1.333277</td>\n      <td>2.738837</td>\n      <td>-0.387979</td>\n      <td>-0.368728</td>\n      <td>-0.359622</td>\n      <td>...</td>\n      <td>-0.172448</td>\n      <td>-0.11775</td>\n      <td>-0.172619</td>\n      <td>-0.177926</td>\n      <td>2.661031</td>\n      <td>-0.125287</td>\n      <td>-0.240879</td>\n      <td>-0.205591</td>\n      <td>-0.163257</td>\n      <td>-0.121102</td>\n    </tr>\n  </tbody>\n</table>\n<p>5 rows × 22 columns</p>\n</div>"
     },
     "execution_count": 3,
     "metadata": {},
     "output_type": "execute_result"
    }
   ],
   "source": [
    "sc = StandardScaler()\n",
    "x_train = sc.fit_transform(x_train)\n",
    "x_test = sc.transform(x_test)\n",
    "\n",
    "dt_train = pd.DataFrame(x_train)\n",
    "dt_train.head()"
   ]
  },
  {
   "cell_type": "code",
   "execution_count": 3,
   "metadata": {},
   "outputs": [],
   "source": [
    " "
   ]
  }
 ],
 "metadata": {
  "kernelspec": {
   "display_name": "Python 3",
   "language": "python",
   "name": "python3"
  },
  "language_info": {
   "codemirror_mode": {
    "name": "ipython",
    "version": 3
   },
   "file_extension": ".py",
   "mimetype": "text/x-python",
   "name": "python",
   "nbconvert_exporter": "python",
   "pygments_lexer": "ipython3",
   "version": "3.9.0"
  }
 },
 "nbformat": 4,
 "nbformat_minor": 4
}